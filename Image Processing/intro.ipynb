{
 "cells": [
  {
   "cell_type": "code",
   "execution_count": 1,
   "id": "4932a27f-f142-4b85-bb9e-8f29f84492fa",
   "metadata": {},
   "outputs": [],
   "source": [
    "a = 6"
   ]
  },
  {
   "cell_type": "code",
   "execution_count": 2,
   "id": "3c28bdc5-6b94-4d2f-9d2e-419504e37d53",
   "metadata": {},
   "outputs": [],
   "source": [
    "a = 8"
   ]
  },
  {
   "cell_type": "code",
   "execution_count": 4,
   "id": "3773b74c-ce8f-461e-9def-be507f51226f",
   "metadata": {},
   "outputs": [],
   "source": [
    "import numpy as np"
   ]
  },
  {
   "cell_type": "code",
   "execution_count": 5,
   "id": "dd7d746e-894a-4b38-b28a-c731bdc7ebb3",
   "metadata": {},
   "outputs": [],
   "source": [
    "it = [1,2,3,4]"
   ]
  },
  {
   "cell_type": "code",
   "execution_count": 6,
   "id": "b9af6294-91ef-471e-aeef-313168538c55",
   "metadata": {},
   "outputs": [],
   "source": [
    "n = np.array(it)"
   ]
  },
  {
   "cell_type": "code",
   "execution_count": 7,
   "id": "efc29f2c-4e6e-48a8-a36c-65628b53416b",
   "metadata": {},
   "outputs": [
    {
     "data": {
      "text/plain": [
       "numpy.ndarray"
      ]
     },
     "execution_count": 7,
     "metadata": {},
     "output_type": "execute_result"
    }
   ],
   "source": [
    "type(n)"
   ]
  },
  {
   "cell_type": "code",
   "execution_count": null,
   "id": "ffc6382e-9caa-42db-9acc-2de867b97e7d",
   "metadata": {},
   "outputs": [],
   "source": []
  }
 ],
 "metadata": {
  "kernelspec": {
   "display_name": "Python 3 (ipykernel)",
   "language": "python",
   "name": "python3"
  },
  "language_info": {
   "codemirror_mode": {
    "name": "ipython",
    "version": 3
   },
   "file_extension": ".py",
   "mimetype": "text/x-python",
   "name": "python",
   "nbconvert_exporter": "python",
   "pygments_lexer": "ipython3",
   "version": "3.9.7"
  }
 },
 "nbformat": 4,
 "nbformat_minor": 5
}
